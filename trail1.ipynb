{
 "cells": [
  {
   "cell_type": "code",
   "execution_count": 2,
   "metadata": {},
   "outputs": [],
   "source": [
    "# assignment 1"
   ]
  },
  {
   "cell_type": "code",
   "execution_count": 4,
   "metadata": {},
   "outputs": [],
   "source": [
    "# find errors commited\n",
    "\n",
    "# NameError: name 'Ten' is not defined ( case sensitivity, alphabets assigned are in lower case and uppercase makes a difference)\n",
    "\n",
    "# TypeError: 'str' object is not callable ( reserved words in python (some words are not to be used as variable names\n",
    "# as they have another use as in del,or, type... they have a different function.))\n",
    "\n",
    "#TypeError: unsupported operand type(s) for -: 'int' and 'str' (error as we did not convert YOB in integer. )\n",
    "\n",
    "# SyntaxError: invalid syntax ( used the input as a str and not convert it into an integer)\n",
    "\n",
    "# ValueError: invalid literal for int() with base 10: '10.2' ( float is with a decimal, whereas int without...\n",
    "# we put int as 10.2 which gave an error)\n",
    "\n",
    "# ValueError: invalid literal for int() with base 10: '50.22' (tried to convert str to int and used a float value without converting)\n",
    "\n",
    "# ValueError: invalid literal for int() with base 10: '' ( empty str trying to convert in integer error)\n",
    "\n",
    "  \n"
   ]
  },
  {
   "cell_type": "code",
   "execution_count": 5,
   "metadata": {},
   "outputs": [],
   "source": [
    "# Take input A and B and print their sum, mul, div, square of the nos."
   ]
  },
  {
   "cell_type": "code",
   "execution_count": 9,
   "metadata": {},
   "outputs": [
    {
     "name": "stdout",
     "output_type": "stream",
     "text": [
      "the sum of a and b is: 164\n",
      "if a is multiplied with b : 6708\n",
      "if b is divided by d: 0.01282051282051282\n",
      "if we want we can also multiply a with c like this: 12792\n"
     ]
    }
   ],
   "source": [
    "a = 78\n",
    "b = 86\n",
    "c = a + b\n",
    "d = a * b\n",
    "e = b / d\n",
    "\n",
    "print(f\"the sum of a and b is: {c}\")\n",
    "print(f\"if a is multiplied with b : {d}\")\n",
    "print(f\"if b is divided by d: {e}\")\n",
    "print(f\"if we want we can also multiply a with c like this: {a * c}\")\n"
   ]
  },
  {
   "cell_type": "code",
   "execution_count": 10,
   "metadata": {},
   "outputs": [],
   "source": [
    "# How many reserve keywords are there in python and why we should not use them as a variable name\n",
    "\n",
    "# there are about 33 keywords we should not use them as variable as each of them have a special function, if we use it we wont be able to use their right functions what they are assigned for."
   ]
  },
  {
   "cell_type": "code",
   "execution_count": 11,
   "metadata": {},
   "outputs": [],
   "source": [
    "# Create email ids with the user inputs. in the following format - lastname.firstname@gmail.com\n",
    "\n"
   ]
  },
  {
   "cell_type": "code",
   "execution_count": 13,
   "metadata": {},
   "outputs": [
    {
     "ename": "ValueError",
     "evalue": "invalid literal for int() with base 10: '25/07/85'",
     "output_type": "error",
     "traceback": [
      "\u001b[1;31m---------------------------------------------------------------------------\u001b[0m",
      "\u001b[1;31mValueError\u001b[0m                                Traceback (most recent call last)",
      "Cell \u001b[1;32mIn [13], line 4\u001b[0m\n\u001b[0;32m      2\u001b[0m middlename \u001b[38;5;241m=\u001b[39m \u001b[38;5;28minput\u001b[39m(\u001b[38;5;124m\"\u001b[39m\u001b[38;5;124mmiddlename\u001b[39m\u001b[38;5;124m\"\u001b[39m)\n\u001b[0;32m      3\u001b[0m lastname \u001b[38;5;241m=\u001b[39m \u001b[38;5;28minput\u001b[39m(\u001b[38;5;124m\"\u001b[39m\u001b[38;5;124mlastname\u001b[39m\u001b[38;5;124m\"\u001b[39m)\n\u001b[1;32m----> 4\u001b[0m year_of_birth \u001b[38;5;241m=\u001b[39m \u001b[38;5;28mint\u001b[39m(\u001b[38;5;28minput\u001b[39m(\u001b[38;5;124m\"\u001b[39m\u001b[38;5;124myob\u001b[39m\u001b[38;5;124m\"\u001b[39m))\n\u001b[0;32m      5\u001b[0m age \u001b[38;5;241m=\u001b[39m \u001b[38;5;241m2022\u001b[39m \u001b[38;5;241m-\u001b[39m year_of_birth \n\u001b[0;32m      6\u001b[0m place \u001b[38;5;241m=\u001b[39m \u001b[38;5;28minput\u001b[39m(\u001b[38;5;124m\"\u001b[39m\u001b[38;5;124mplace\u001b[39m\u001b[38;5;124m\"\u001b[39m)\n",
      "\u001b[1;31mValueError\u001b[0m: invalid literal for int() with base 10: '25/07/85'"
     ]
    }
   ],
   "source": [
    "firstname = input(\"firstname\")\n",
    "middlename = input(\"middlename\")\n",
    "lastname = input(\"lastname\")\n",
    "year_of_birth = int(input(\"yob\"))\n",
    "age = 2022 - year_of_birth \n",
    "place = input(\"place\")\n",
    "pincode = input(\"pincode\")\n",
    "date_of_birth = input(\"date_of_birth\")\n",
    "\n",
    "print(f\"\"\"i am practicing python and creating a few email ids:-\n",
    "{firstname}.{lastname}@gmail.com\n",
    "{lastname}_{age}@ineuron.ai\n",
    "{firstname}_{place}{age}@gmail.com\"\"\")\n"
   ]
  },
  {
   "cell_type": "code",
   "execution_count": 14,
   "metadata": {},
   "outputs": [
    {
     "ename": "ValueError",
     "evalue": "invalid literal for int() with base 10: '25/07/85'",
     "output_type": "error",
     "traceback": [
      "\u001b[1;31m---------------------------------------------------------------------------\u001b[0m",
      "\u001b[1;31mValueError\u001b[0m                                Traceback (most recent call last)",
      "Cell \u001b[1;32mIn [14], line 4\u001b[0m\n\u001b[0;32m      2\u001b[0m middlename \u001b[38;5;241m=\u001b[39m \u001b[38;5;28minput\u001b[39m(\u001b[38;5;124m\"\u001b[39m\u001b[38;5;124mmiddlename\u001b[39m\u001b[38;5;124m\"\u001b[39m)\n\u001b[0;32m      3\u001b[0m lastname \u001b[38;5;241m=\u001b[39m \u001b[38;5;28minput\u001b[39m(\u001b[38;5;124m\"\u001b[39m\u001b[38;5;124mlastname\u001b[39m\u001b[38;5;124m\"\u001b[39m)\n\u001b[1;32m----> 4\u001b[0m year_of_birth \u001b[38;5;241m=\u001b[39m \u001b[38;5;28mint\u001b[39m(\u001b[38;5;28minput\u001b[39m(\u001b[38;5;124m\"\u001b[39m\u001b[38;5;124myob\u001b[39m\u001b[38;5;124m\"\u001b[39m))\n\u001b[0;32m      5\u001b[0m age \u001b[38;5;241m=\u001b[39m \u001b[38;5;241m2022\u001b[39m \u001b[38;5;241m-\u001b[39m year_of_birth \n\u001b[0;32m      6\u001b[0m place \u001b[38;5;241m=\u001b[39m \u001b[38;5;28minput\u001b[39m(\u001b[38;5;124m\"\u001b[39m\u001b[38;5;124mplace\u001b[39m\u001b[38;5;124m\"\u001b[39m)\n",
      "\u001b[1;31mValueError\u001b[0m: invalid literal for int() with base 10: '25/07/85'"
     ]
    }
   ],
   "source": [
    "firstname = input(\"firstname\")\n",
    "middlename = input(\"middlename\")\n",
    "lastname = input(\"lastname\")\n",
    "year_of_birth = int(input(\"yob\"))\n",
    "age = 2022 - year_of_birth \n",
    "place = input(\"place\")\n",
    "pincode = input(\"pincode\")\n",
    "date_of_birth = int(input(\"date_of_birth\"))\n",
    "\n",
    "print(f\"\"\"i am practicing python and creating a few email ids:-\n",
    "{firstname}.{lastname}@gmail.com\n",
    "{lastname}_{age}@ineuron.ai\n",
    "{firstname}_{place}{age}@gmail.com\"\"\")\n"
   ]
  },
  {
   "cell_type": "code",
   "execution_count": 15,
   "metadata": {},
   "outputs": [
    {
     "name": "stdout",
     "output_type": "stream",
     "text": [
      "i am practicing python and creating a few email ids:-\n",
      "rahul.dhanani@gmail.com\n",
      "dhanani_37@ineuron.ai\n",
      "rahul_spain37@gmail.com\n"
     ]
    }
   ],
   "source": [
    "firstname = input(\"firstname\")\n",
    "middlename = input(\"middlename\")\n",
    "lastname = input(\"lastname\")\n",
    "year_of_birth = int(input(\"yob\"))\n",
    "age = 2022 - year_of_birth \n",
    "place = input(\"place\")\n",
    "pincode = input(\"pincode\")\n",
    "date_of_birth = input(\"date_of_birth\")\n",
    "\n",
    "print(f\"\"\"i am practicing python and creating a few email ids:-\n",
    "{firstname}.{lastname}@gmail.com\n",
    "{lastname}_{age}@ineuron.ai\n",
    "{firstname}_{place}{age}@gmail.com\"\"\")\n"
   ]
  },
  {
   "cell_type": "code",
   "execution_count": 16,
   "metadata": {},
   "outputs": [],
   "source": [
    "# made an error but recognized it in yob i was inserting str instead of int.\n"
   ]
  },
  {
   "cell_type": "code",
   "execution_count": 17,
   "metadata": {},
   "outputs": [
    {
     "name": "stdout",
     "output_type": "stream",
     "text": [
      "hi my nam is {firstname},\n",
      "i live in {place},\n",
      "i am enjoying learning python programming,\n",
      "i earn 20$ a day but would love to make more\n"
     ]
    }
   ],
   "source": [
    "print(\"\"\"hi my nam is {firstname},\n",
    "i live in {place},\n",
    "i am enjoying learning python programming,\n",
    "i earn 20$ a day but would love to make more\"\"\")"
   ]
  },
  {
   "cell_type": "code",
   "execution_count": 18,
   "metadata": {},
   "outputs": [
    {
     "name": "stdout",
     "output_type": "stream",
     "text": [
      "hi my name is rahul,\n",
      "i live in spain,\n",
      "i am enjoying learning python programming,\n",
      "i earn 20$ a day but would love to make more\n"
     ]
    }
   ],
   "source": [
    "# i forgot to use the (F) function.\n",
    "print(f\"\"\"hi my name is {firstname},\n",
    "i live in {place},\n",
    "i am enjoying learning python programming,\n",
    "i earn 20$ a day but would love to make more\"\"\")"
   ]
  },
  {
   "cell_type": "code",
   "execution_count": 20,
   "metadata": {},
   "outputs": [],
   "source": [
    "# Convert the following -\n",
    "#\"22.4\" into integer\n",
    "#\"22\" into complex no."
   ]
  },
  {
   "cell_type": "code",
   "execution_count": 21,
   "metadata": {},
   "outputs": [],
   "source": [
    "a = \"22.4\"\n",
    "a = float(a)\n",
    "a = int(a)"
   ]
  },
  {
   "cell_type": "code",
   "execution_count": 22,
   "metadata": {},
   "outputs": [
    {
     "data": {
      "text/plain": [
       "int"
      ]
     },
     "execution_count": 22,
     "metadata": {},
     "output_type": "execute_result"
    }
   ],
   "source": [
    "type(a)"
   ]
  },
  {
   "cell_type": "code",
   "execution_count": 23,
   "metadata": {},
   "outputs": [],
   "source": [
    "a = \"22\"\n",
    "a = int(a)\n",
    "a = a + 2j"
   ]
  },
  {
   "cell_type": "code",
   "execution_count": 24,
   "metadata": {},
   "outputs": [
    {
     "data": {
      "text/plain": [
       "complex"
      ]
     },
     "execution_count": 24,
     "metadata": {},
     "output_type": "execute_result"
    }
   ],
   "source": [
    "type(a)"
   ]
  },
  {
   "cell_type": "code",
   "execution_count": 25,
   "metadata": {},
   "outputs": [],
   "source": [
    "# hi sir, my name is rahul, i m from spain there is a time diference of 4.30hrs to ist, and i work here 60hrs a week\n",
    "# i dont get to attend much of your classes but during the week i try to give 2 hrs everynight. i couldnt submit the assignment earlier\n",
    "# as just yesterday i finished going thru all the classes, can you please let me know how can i do it\n",
    "# or is it ok if i submit it during the week, i enjoy the classes verymuch thank you for your support."
   ]
  },
  {
   "cell_type": "code",
   "execution_count": null,
   "metadata": {},
   "outputs": [],
   "source": []
  }
 ],
 "metadata": {
  "kernelspec": {
   "display_name": "Python 3.10.7 64-bit",
   "language": "python",
   "name": "python3"
  },
  "language_info": {
   "codemirror_mode": {
    "name": "ipython",
    "version": 3
   },
   "file_extension": ".py",
   "mimetype": "text/x-python",
   "name": "python",
   "nbconvert_exporter": "python",
   "pygments_lexer": "ipython3",
   "version": "3.10.7"
  },
  "orig_nbformat": 4,
  "vscode": {
   "interpreter": {
    "hash": "6eb1ca0e59ab85dc9eb8be3744d92e9e4e7eb514696998a8a0ffac57ba5d31d3"
   }
  }
 },
 "nbformat": 4,
 "nbformat_minor": 2
}
